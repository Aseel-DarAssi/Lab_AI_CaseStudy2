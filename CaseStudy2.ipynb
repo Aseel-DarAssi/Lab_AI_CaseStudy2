{
  "nbformat": 4,
  "nbformat_minor": 0,
  "metadata": {
    "colab": {
      "provenance": [],
      "gpuType": "T4"
    },
    "kernelspec": {
      "name": "python3",
      "display_name": "Python 3"
    },
    "language_info": {
      "name": "python"
    },
    "accelerator": "GPU"
  },
  "cells": [
    {
      "cell_type": "markdown",
      "source": [
        "# **Case Study #2: Experimenting with transfer learning**"
      ],
      "metadata": {
        "id": "x8Md3Wsv2YTy"
      }
    },
    {
      "cell_type": "markdown",
      "source": [
        "Set device to GPU if available:"
      ],
      "metadata": {
        "id": "hpYlAXcqu668"
      }
    },
    {
      "cell_type": "code",
      "source": [
        "import torch\n",
        "\n",
        "device = torch.device('cuda' if torch.cuda.is_available() else 'cpu')\n",
        "print(device)"
      ],
      "metadata": {
        "colab": {
          "base_uri": "https://localhost:8080/"
        },
        "id": "MHMp0Yqjs3pG",
        "outputId": "aac5a524-bc49-4726-d57a-5e98d079ba9b"
      },
      "execution_count": null,
      "outputs": [
        {
          "output_type": "stream",
          "name": "stdout",
          "text": [
            "cuda\n"
          ]
        }
      ]
    },
    {
      "cell_type": "markdown",
      "source": [
        "1. Finetuning: this is the same setup as we did in experiment 8, where the goal is to\n",
        "update all the pretrained weights besides the newly added classification layer."
      ],
      "metadata": {
        "id": "QQqpmAdh0VRt"
      }
    },
    {
      "cell_type": "markdown",
      "source": [
        "## Load CIFAR10 Dataset and Set Device\n",
        "\n",
        "Load CIFAR10 images and apply transforms to match input size for pretrained models.\n"
      ],
      "metadata": {
        "id": "9Z72YkM7ut_M"
      }
    },
    {
      "cell_type": "code",
      "source": [
        "import torch\n",
        "import torch.nn as nn\n",
        "import torch.optim as optim\n",
        "import torchvision\n",
        "import torchvision.transforms as transforms\n",
        "from torchvision import models\n",
        "# Set device to GPU if available, else use CPU\n",
        "device = torch.device('cuda' if torch.cuda.is_available() else 'cpu')\n",
        "# Resize to 256, crop center to 224, convert to tensor, normalize using ImageNet stats\n",
        "transform = transforms.Compose([\n",
        "    transforms.Resize(256),\n",
        "    transforms.CenterCrop(224),\n",
        "    transforms.ToTensor(),\n",
        "    transforms.Normalize([0.485, 0.456, 0.406],\n",
        "                         [0.229, 0.224, 0.225])\n",
        "])\n",
        "\n",
        "batch_size = 32\n",
        "# Load CIFAR10 training dataset with transforms\n",
        "trainset = torchvision.datasets.CIFAR10(root='./data', train=True,\n",
        "                                        download=True, transform=transform)\n",
        "trainloader = torch.utils.data.DataLoader(trainset, batch_size=batch_size,\n",
        "                                          shuffle=True, num_workers=2)\n",
        "# Load CIFAR10 test dataset with same transforms\n",
        "testset = torchvision.datasets.CIFAR10(root='./data', train=False,\n",
        "                                       download=True, transform=transform)\n",
        "testloader = torch.utils.data.DataLoader(testset, batch_size=batch_size,\n",
        "                                         shuffle=False, num_workers=2)\n"
      ],
      "metadata": {
        "id": "6Zopxk47wvSx",
        "colab": {
          "base_uri": "https://localhost:8080/"
        },
        "outputId": "c6e744f5-dd3e-406a-b08a-a03f054ed40c"
      },
      "execution_count": 2,
      "outputs": [
        {
          "output_type": "stream",
          "name": "stderr",
          "text": [
            "100%|██████████| 170M/170M [00:04<00:00, 35.7MB/s]\n"
          ]
        }
      ]
    },
    {
      "cell_type": "markdown",
      "source": [
        "## Training and Evaluation Function\n",
        "\n",
        "Define a function to train the model for 3 epochs and calculate accuracy on the test set.\n"
      ],
      "metadata": {
        "id": "lXsvf7TvvyFJ"
      }
    },
    {
      "cell_type": "code",
      "source": [
        "# Define training and evaluation function\n",
        "def train_and_evaluate(model, model_name):\n",
        "    model = model.to(device)\n",
        "        # Set loss function and optimizer\n",
        "    criterion = nn.CrossEntropyLoss()\n",
        "    optimizer = optim.SGD(model.parameters(), lr=0.001, momentum=0.9)\n",
        "    # Training loop for 3 epochs\n",
        "    model.train()\n",
        "    for epoch in range(3):\n",
        "        running_loss = 0.0\n",
        "        for i, data in enumerate(trainloader, 0):\n",
        "            inputs, labels = data\n",
        "            inputs, labels = inputs.to(device), labels.to(device)\n",
        "            # Zero gradients, forward pass, compute loss, backpropagation, update weights\n",
        "            optimizer.zero_grad()\n",
        "            outputs = model(inputs)\n",
        "            loss = criterion(outputs, labels)\n",
        "            loss.backward()\n",
        "            optimizer.step()\n",
        "            # Track loss and print every 200 batches\n",
        "            running_loss += loss.item()\n",
        "            if i % 200 == 199:\n",
        "                print(f'[{model_name} | Epoch {epoch + 1}, Batch {i + 1}] loss: {running_loss / 200:.3f}')\n",
        "                running_loss = 0.0\n",
        "\n",
        "    print(f'{model_name} Finished Training')\n",
        "    # Evaluation on test set\n",
        "    model.eval()\n",
        "    correct = 0\n",
        "    total = 0\n",
        "    with torch.no_grad():\n",
        "        for inputs, labels in testloader:\n",
        "            inputs, labels = inputs.to(device), labels.to(device)\n",
        "            outputs = model(inputs)\n",
        "            _, predicted = torch.max(outputs.data, 1)\n",
        "            total += labels.size(0)\n",
        "            correct += (predicted == labels).sum().item()\n",
        "    # Print accuracy\n",
        "    print(f'{model_name} Accuracy on test images: {100 * correct / total:.2f}%\\n')\n"
      ],
      "metadata": {
        "id": "lrv_Zvz3wzF5"
      },
      "execution_count": 3,
      "outputs": []
    },
    {
      "cell_type": "markdown",
      "source": [
        "## Finetuning AlexNet\n",
        "\n",
        "Load pretrained AlexNet, replace the last layer to match CIFAR10 classes, and train the full model.\n"
      ],
      "metadata": {
        "id": "Atpq3FyW16GF"
      }
    },
    {
      "cell_type": "code",
      "source": [
        "# Load pretrained AlexNet model\n",
        "alexnet = models.alexnet(weights='IMAGENET1K_V1')\n",
        "# Replace the last fully connected layer with a new one for 10 classes\n",
        "alexnet.classifier[6] = nn.Linear(4096, 10)\n",
        "# Train and evaluate the model using finetuning setup\n",
        "train_and_evaluate(alexnet, 'AlexNet')\n"
      ],
      "metadata": {
        "colab": {
          "base_uri": "https://localhost:8080/"
        },
        "id": "auVZf3Lqw65S",
        "outputId": "9af96d2e-7ed6-425e-ed3b-e68709e8b7bd"
      },
      "execution_count": null,
      "outputs": [
        {
          "output_type": "stream",
          "name": "stdout",
          "text": [
            "[AlexNet | Epoch 1, Batch 200] loss: 0.981\n",
            "[AlexNet | Epoch 1, Batch 400] loss: 0.718\n",
            "[AlexNet | Epoch 1, Batch 600] loss: 0.634\n",
            "[AlexNet | Epoch 1, Batch 800] loss: 0.598\n",
            "[AlexNet | Epoch 1, Batch 1000] loss: 0.544\n",
            "[AlexNet | Epoch 1, Batch 1200] loss: 0.546\n",
            "[AlexNet | Epoch 1, Batch 1400] loss: 0.498\n",
            "[AlexNet | Epoch 2, Batch 200] loss: 0.398\n",
            "[AlexNet | Epoch 2, Batch 400] loss: 0.412\n",
            "[AlexNet | Epoch 2, Batch 600] loss: 0.411\n",
            "[AlexNet | Epoch 2, Batch 800] loss: 0.384\n",
            "[AlexNet | Epoch 2, Batch 1000] loss: 0.404\n",
            "[AlexNet | Epoch 2, Batch 1200] loss: 0.371\n",
            "[AlexNet | Epoch 2, Batch 1400] loss: 0.386\n",
            "[AlexNet | Epoch 3, Batch 200] loss: 0.305\n",
            "[AlexNet | Epoch 3, Batch 400] loss: 0.300\n",
            "[AlexNet | Epoch 3, Batch 600] loss: 0.321\n",
            "[AlexNet | Epoch 3, Batch 800] loss: 0.316\n",
            "[AlexNet | Epoch 3, Batch 1000] loss: 0.288\n",
            "[AlexNet | Epoch 3, Batch 1200] loss: 0.304\n",
            "[AlexNet | Epoch 3, Batch 1400] loss: 0.309\n",
            "AlexNet Finished Training\n",
            "AlexNet Accuracy on test images: 88.27%\n",
            "\n"
          ]
        }
      ]
    },
    {
      "cell_type": "markdown",
      "source": [
        "## Finetuning VGG16\n",
        "\n",
        "Load pretrained VGG16, modify the final layer for CIFAR10 classification, and train the full model.\n"
      ],
      "metadata": {
        "id": "WZn9L5N718Dt"
      }
    },
    {
      "cell_type": "code",
      "source": [
        "# Load pretrained VGG16 model\n",
        "vgg16 = models.vgg16(weights='IMAGENET1K_V1')\n",
        "# Replace the last fully connected layer with a new one for 10 classes\n",
        "vgg16.classifier[6] = nn.Linear(4096, 10)\n",
        "# Train and evaluate the model using finetuning setup\n",
        "train_and_evaluate(vgg16, 'VGG16')\n"
      ],
      "metadata": {
        "colab": {
          "base_uri": "https://localhost:8080/"
        },
        "id": "s6iFrZA8w-BC",
        "outputId": "e9a73239-17f1-45fd-c168-037a01101f0c"
      },
      "execution_count": null,
      "outputs": [
        {
          "metadata": {
            "tags": null
          },
          "name": "stderr",
          "output_type": "stream",
          "text": [
            "Downloading: \"https://download.pytorch.org/models/vgg16-397923af.pth\" to /root/.cache/torch/hub/checkpoints/vgg16-397923af.pth\n",
            "100%|██████████| 528M/528M [00:07<00:00, 76.4MB/s]\n"
          ]
        },
        {
          "output_type": "stream",
          "name": "stdout",
          "text": [
            "[VGG16 | Epoch 1, Batch 200] loss: 0.886\n",
            "[VGG16 | Epoch 1, Batch 400] loss: 0.547\n",
            "[VGG16 | Epoch 1, Batch 600] loss: 0.477\n",
            "[VGG16 | Epoch 1, Batch 800] loss: 0.423\n",
            "[VGG16 | Epoch 1, Batch 1000] loss: 0.393\n",
            "[VGG16 | Epoch 1, Batch 1200] loss: 0.364\n",
            "[VGG16 | Epoch 1, Batch 1400] loss: 0.350\n",
            "[VGG16 | Epoch 2, Batch 200] loss: 0.236\n",
            "[VGG16 | Epoch 2, Batch 400] loss: 0.253\n",
            "[VGG16 | Epoch 2, Batch 600] loss: 0.256\n",
            "[VGG16 | Epoch 2, Batch 800] loss: 0.241\n",
            "[VGG16 | Epoch 2, Batch 1000] loss: 0.241\n",
            "[VGG16 | Epoch 2, Batch 1200] loss: 0.234\n",
            "[VGG16 | Epoch 2, Batch 1400] loss: 0.241\n",
            "[VGG16 | Epoch 3, Batch 200] loss: 0.150\n",
            "[VGG16 | Epoch 3, Batch 400] loss: 0.157\n",
            "[VGG16 | Epoch 3, Batch 600] loss: 0.168\n",
            "[VGG16 | Epoch 3, Batch 800] loss: 0.151\n",
            "[VGG16 | Epoch 3, Batch 1000] loss: 0.175\n",
            "[VGG16 | Epoch 3, Batch 1200] loss: 0.156\n",
            "[VGG16 | Epoch 3, Batch 1400] loss: 0.153\n",
            "VGG16 Finished Training\n",
            "VGG16 Accuracy on test images: 92.03%\n",
            "\n"
          ]
        }
      ]
    },
    {
      "cell_type": "markdown",
      "source": [
        "2. ConvNet as fixed feature extractor Here, we freeze the weights for all of the\n",
        "network except that of the final fully connected layer. This last fully connected\n",
        "layer is replaced with a new one with random weights and only this layer is\n",
        "trained."
      ],
      "metadata": {
        "id": "ZaSX9Pso0bQY"
      }
    },
    {
      "cell_type": "markdown",
      "source": [
        "## Feature Extraction with AlexNet\n",
        "\n",
        "Freeze all layers except the final classifier layer. Train only the last layer on CIFAR10.\n"
      ],
      "metadata": {
        "id": "XRBH6S3X2Isp"
      }
    },
    {
      "cell_type": "code",
      "source": [
        "# Load pretrained AlexNet model\n",
        "alexnet = models.alexnet(weights='IMAGENET1K_V1')\n",
        "# Freeze all parameters\n",
        "for param in alexnet.parameters():\n",
        "    param.requires_grad = False\n",
        "# Replace the last fully connected layer with a new one for 10 classes\n",
        "alexnet.classifier[6] = nn.Linear(4096, 10)\n",
        "# Select only the parameters of the new layer for optimization\n",
        "params_to_update = alexnet.classifier[6].parameters()\n",
        "\n",
        "alexnet = alexnet.to(device)\n",
        "# Define loss function and optimizer\n",
        "criterion = nn.CrossEntropyLoss()\n",
        "optimizer = optim.SGD(params_to_update, lr=0.001, momentum=0.9)\n",
        "# Training loop (feature extraction)\n",
        "alexnet.train()\n",
        "for epoch in range(3):\n",
        "    running_loss = 0.0\n",
        "    for i, data in enumerate(trainloader, 0):\n",
        "        inputs, labels = data\n",
        "        inputs, labels = inputs.to(device), labels.to(device)\n",
        "\n",
        "        optimizer.zero_grad()\n",
        "        outputs = alexnet(inputs)\n",
        "        loss = criterion(outputs, labels)\n",
        "        loss.backward()\n",
        "        optimizer.step()\n",
        "\n",
        "        running_loss += loss.item()\n",
        "        if i % 200 == 199:\n",
        "            print(f'[Feature Extractor | Epoch {epoch + 1}, Batch {i + 1}] loss: {running_loss / 200:.3f}')\n",
        "            running_loss = 0.0\n",
        "\n",
        "print('Finished Training (Feature Extractor)')\n",
        "# Evaluation\n",
        "alexnet.eval()\n",
        "correct = 0\n",
        "total = 0\n",
        "with torch.no_grad():\n",
        "    for inputs, labels in testloader:\n",
        "        inputs, labels = inputs.to(device), labels.to(device)\n",
        "        outputs = alexnet(inputs)\n",
        "        _, predicted = torch.max(outputs.data, 1)\n",
        "        total += labels.size(0)\n",
        "        correct += (predicted == labels).sum().item()\n",
        "\n",
        "print(f'Feature Extractor Accuracy on test images: {100 * correct / total:.2f}%')\n"
      ],
      "metadata": {
        "id": "ffCpu5bt0e4s",
        "colab": {
          "base_uri": "https://localhost:8080/"
        },
        "outputId": "494330c1-643a-4f71-fe1c-4618b73cccb3"
      },
      "execution_count": 4,
      "outputs": [
        {
          "output_type": "stream",
          "name": "stderr",
          "text": [
            "Downloading: \"https://download.pytorch.org/models/alexnet-owt-7be5be79.pth\" to /root/.cache/torch/hub/checkpoints/alexnet-owt-7be5be79.pth\n",
            "100%|██████████| 233M/233M [00:01<00:00, 180MB/s]\n"
          ]
        },
        {
          "output_type": "stream",
          "name": "stdout",
          "text": [
            "[Feature Extractor | Epoch 1, Batch 200] loss: 1.037\n",
            "[Feature Extractor | Epoch 1, Batch 400] loss: 0.791\n",
            "[Feature Extractor | Epoch 1, Batch 600] loss: 0.765\n",
            "[Feature Extractor | Epoch 1, Batch 800] loss: 0.772\n",
            "[Feature Extractor | Epoch 1, Batch 1000] loss: 0.740\n",
            "[Feature Extractor | Epoch 1, Batch 1200] loss: 0.768\n",
            "[Feature Extractor | Epoch 1, Batch 1400] loss: 0.708\n",
            "[Feature Extractor | Epoch 2, Batch 200] loss: 0.701\n",
            "[Feature Extractor | Epoch 2, Batch 400] loss: 0.674\n",
            "[Feature Extractor | Epoch 2, Batch 600] loss: 0.667\n",
            "[Feature Extractor | Epoch 2, Batch 800] loss: 0.681\n",
            "[Feature Extractor | Epoch 2, Batch 1000] loss: 0.696\n",
            "[Feature Extractor | Epoch 2, Batch 1200] loss: 0.658\n",
            "[Feature Extractor | Epoch 2, Batch 1400] loss: 0.704\n",
            "[Feature Extractor | Epoch 3, Batch 200] loss: 0.661\n",
            "[Feature Extractor | Epoch 3, Batch 400] loss: 0.655\n",
            "[Feature Extractor | Epoch 3, Batch 600] loss: 0.632\n",
            "[Feature Extractor | Epoch 3, Batch 800] loss: 0.645\n",
            "[Feature Extractor | Epoch 3, Batch 1000] loss: 0.643\n",
            "[Feature Extractor | Epoch 3, Batch 1200] loss: 0.649\n",
            "[Feature Extractor | Epoch 3, Batch 1400] loss: 0.676\n",
            "Finished Training (Feature Extractor)\n",
            "Feature Extractor Accuracy on test images: 81.84%\n"
          ]
        }
      ]
    },
    {
      "cell_type": "markdown",
      "source": [
        "## Feature Extraction with VGG16\n",
        "\n",
        "Freeze all layers except the final classifier layer. Train only the last layer on CIFAR10.\n"
      ],
      "metadata": {
        "id": "eMy52sHC2MEA"
      }
    },
    {
      "cell_type": "code",
      "source": [
        "# Load pretrained VGG16 model\n",
        "vgg16 = models.vgg16(weights='IMAGENET1K_V1')\n",
        "# Freeze all parameters\n",
        "for param in vgg16.parameters():\n",
        "    param.requires_grad = False\n",
        "# Replace the last fully connected layer with a new one for 10 classes\n",
        "vgg16.classifier[6] = nn.Linear(4096, 10)\n",
        "# Select only the parameters of the new layer for optimization\n",
        "params_to_update = vgg16.classifier[6].parameters()\n",
        "# Move model to device\n",
        "vgg16 = vgg16.to(device)\n",
        "# Define loss function and optimizer\n",
        "criterion = nn.CrossEntropyLoss()\n",
        "optimizer = optim.SGD(params_to_update, lr=0.001, momentum=0.9)\n",
        "# Training loop (feature extraction)\n",
        "vgg16.train()\n",
        "for epoch in range(3):\n",
        "    running_loss = 0.0\n",
        "    for i, data in enumerate(trainloader, 0):\n",
        "        inputs, labels = data\n",
        "        inputs, labels = inputs.to(device), labels.to(device)\n",
        "\n",
        "        optimizer.zero_grad()\n",
        "        outputs = vgg16(inputs)\n",
        "        loss = criterion(outputs, labels)\n",
        "        loss.backward()\n",
        "        optimizer.step()\n",
        "\n",
        "        running_loss += loss.item()\n",
        "        if i % 200 == 199:\n",
        "            print(f'[VGG16 Feature Extractor | Epoch {epoch + 1}, Batch {i + 1}] loss: {running_loss / 200:.3f}')\n",
        "            running_loss = 0.0\n",
        "\n",
        "print('Finished Training (VGG16 Feature Extractor)')\n",
        "# Evaluation\n",
        "vgg16.eval()\n",
        "correct = 0\n",
        "total = 0\n",
        "with torch.no_grad():\n",
        "    for inputs, labels in testloader:\n",
        "        inputs, labels = inputs.to(device), labels.to(device)\n",
        "        outputs = vgg16(inputs)\n",
        "        _, predicted = torch.max(outputs.data, 1)\n",
        "        total += labels.size(0)\n",
        "        correct += (predicted == labels).sum().item()\n",
        "\n",
        "print(f'VGG16 Feature Extractor Accuracy on test images: {100 * correct / total:.2f}%')\n"
      ],
      "metadata": {
        "id": "w0GvXqeN0qEA",
        "colab": {
          "base_uri": "https://localhost:8080/"
        },
        "outputId": "6f80a81a-ac44-444b-cf8e-3ece32fe1e72"
      },
      "execution_count": 6,
      "outputs": [
        {
          "output_type": "stream",
          "name": "stdout",
          "text": [
            "[VGG16 Feature Extractor | Epoch 1, Batch 200] loss: 1.041\n",
            "[VGG16 Feature Extractor | Epoch 1, Batch 400] loss: 0.774\n",
            "[VGG16 Feature Extractor | Epoch 1, Batch 600] loss: 0.721\n",
            "[VGG16 Feature Extractor | Epoch 1, Batch 800] loss: 0.700\n",
            "[VGG16 Feature Extractor | Epoch 1, Batch 1000] loss: 0.665\n",
            "[VGG16 Feature Extractor | Epoch 1, Batch 1200] loss: 0.673\n",
            "[VGG16 Feature Extractor | Epoch 1, Batch 1400] loss: 0.660\n",
            "[VGG16 Feature Extractor | Epoch 2, Batch 200] loss: 0.640\n",
            "[VGG16 Feature Extractor | Epoch 2, Batch 400] loss: 0.620\n",
            "[VGG16 Feature Extractor | Epoch 2, Batch 600] loss: 0.611\n",
            "[VGG16 Feature Extractor | Epoch 2, Batch 800] loss: 0.640\n",
            "[VGG16 Feature Extractor | Epoch 2, Batch 1000] loss: 0.639\n",
            "[VGG16 Feature Extractor | Epoch 2, Batch 1200] loss: 0.638\n",
            "[VGG16 Feature Extractor | Epoch 2, Batch 1400] loss: 0.645\n",
            "[VGG16 Feature Extractor | Epoch 3, Batch 200] loss: 0.623\n",
            "[VGG16 Feature Extractor | Epoch 3, Batch 400] loss: 0.625\n",
            "[VGG16 Feature Extractor | Epoch 3, Batch 600] loss: 0.595\n",
            "[VGG16 Feature Extractor | Epoch 3, Batch 800] loss: 0.620\n",
            "[VGG16 Feature Extractor | Epoch 3, Batch 1000] loss: 0.626\n",
            "[VGG16 Feature Extractor | Epoch 3, Batch 1200] loss: 0.596\n",
            "[VGG16 Feature Extractor | Epoch 3, Batch 1400] loss: 0.622\n",
            "Finished Training (VGG16 Feature Extractor)\n",
            "VGG16 Feature Extractor Accuracy on test images: 81.58%\n"
          ]
        }
      ]
    },
    {
      "cell_type": "markdown",
      "source": [
        "Compare the accuracy of the two models on the test set of CIFAR10 dataset using the\n",
        "two setups mentioned above. Comment on your results and discuss any insights gained\n",
        "from comparing the two setups."
      ],
      "metadata": {
        "id": "sv7KxLc5snfk"
      }
    },
    {
      "cell_type": "code",
      "source": [
        "import matplotlib.pyplot as plt\n",
        "models = ['AlexNet', 'VGG16']\n",
        "finetune_acc = [88.27, 92.03]\n",
        "feature_acc = [81.84, 81.58]\n",
        "bar_width = 0.35\n",
        "x = range(len(models))\n",
        "\n",
        "plt.figure(figsize=(8, 5))\n",
        "plt.bar(x, finetune_acc, width=bar_width, label='Finetuning', color='#FFB6C1')\n",
        "plt.bar([i + bar_width for i in x], feature_acc, width=bar_width, label='Feature Extraction', color='#D8BFD8')\n",
        "\n",
        "plt.xlabel('Model')\n",
        "plt.ylabel('Accuracy (%)')\n",
        "plt.title('Accuracy Comparison on CIFAR10')\n",
        "plt.xticks([i + bar_width / 2 for i in x], models)\n",
        "plt.ylim(75, 95)\n",
        "plt.legend()\n",
        "plt.grid(axis='y', linestyle='--', alpha=0.7)\n",
        "\n",
        "plt.tight_layout()\n",
        "plt.savefig('model_accuracy_comparison.png')\n",
        "plt.show()\n"
      ],
      "metadata": {
        "colab": {
          "base_uri": "https://localhost:8080/",
          "height": 417
        },
        "id": "KJXGhcQEyxc_",
        "outputId": "d657f9ce-df9f-4dec-d81d-0fd47bd40eb1"
      },
      "execution_count": 7,
      "outputs": [
        {
          "output_type": "display_data",
          "data": {
            "text/plain": [
              "<Figure size 800x500 with 1 Axes>"
            ],
            "image/png": "[encoded data removed]"
          },
          "metadata": {}
        }
      ]
    },
    {
      "cell_type": "markdown",
      "source": [
        "I tested AlexNet and VGG16 using two setups: finetuning and feature extraction. The results showed that finetuning gave better accuracy than feature extraction for both models.\n",
        "\n",
        "\n",
        "| Model   | Finetuning Accuracy | Feature Extraction Accuracy |\n",
        "|---------|---------------------|------------------------------|\n",
        "| AlexNet | 88.27%              | 81.84%                       |\n",
        "| VGG16   | 92.03%              | 81.58%                       |\n",
        "\n",
        "\n",
        "Finetuning allows the model to update all its weights, including the convolutional layers. This helps the network adapt better to the CIFAR10 dataset, which is different from ImageNet. In contrast, feature extraction keeps most of the weights frozen, so the model relies only on the pretrained features, which may not be optimal for CIFAR10. That’s why the accuracy is lower in this setup.\n",
        "\n",
        "VGG16 achieved higher accuracy than AlexNet in both setups. This is because VGG16 has a deeper architecture with more convolutional layers, which gives it stronger feature extraction capabilities. When the full model is trained (as in finetuning), this depth helps VGG16 learn more complex and detailed patterns, leading to better performance.\n",
        "\n",
        "Overall, finetuning is more effective when high accuracy is needed and computational resources are available. Feature extraction is faster and requires less training, but it gives lower accuracy because the model cannot fully adapt to the new dataset."
      ],
      "metadata": {
        "id": "y7XhlqyDrY2R"
      }
    }
  ]
}